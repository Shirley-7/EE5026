{
 "cells": [
  {
   "cell_type": "code",
   "execution_count": 1,
   "id": "25116828-39e8-407a-be42-e218441aeb02",
   "metadata": {
    "tags": []
   },
   "outputs": [],
   "source": [
    "import PIL\n",
    "from PIL import Image\n",
    "import matplotlib.pyplot as plt\n",
    "import random\n",
    "import numpy as np\n",
    "import os\n",
    "random.seed(5026)\n",
    "target = np.sort([0] + random.sample(range(1, 69), 25))\n",
    "num = []\n",
    "for i in target:\n",
    "    files = os.listdir(os.path.join(\"PIE\", str(i)))\n",
    "    n = len([j for j in files if j.endswith('.jpg')])\n",
    "    num.append(n)\n",
    "X = np.empty((sum(num), 32, 32))\n",
    "y = np.empty((sum(num), 1))\n",
    "for i, j in enumerate(target):\n",
    "    for k, img_path in enumerate([f for f in os.listdir(os.path.join('PIE', str(j))) if f.endswith('.jpg')]):\n",
    "        img_path = os.path.join('PIE', str(j), str(k+1)+'.jpg')\n",
    "        X[sum(num[:i]) + k, :, :] = np.array(Image.open(img_path))\n",
    "        y[sum(num[:i]) + k] = j\n",
    "X_CMU = X[y.flatten() != 0, :, :]\n",
    "y_CMU = y[y != 0]\n",
    "X_self = X[y.flatten() == 0, :, :]\n",
    "y_self = y[y == 0]\n",
    "np.random.seed(42)\n",
    "total_samples = len(X_CMU)\n",
    "train_size = int(0.7 * total_samples)\n",
    "train_indices = np.random.choice(total_samples, train_size, replace=False)\n",
    "X_train_CMU = X_CMU[train_indices]\n",
    "y_train_CMU = y_CMU[train_indices]\n",
    "X_test_CMU = np.delete(X_CMU, train_indices, axis=0)\n",
    "y_test_CMU = np.delete(y_CMU, train_indices, axis=0)\n",
    "np.random.seed(42)\n",
    "total_samples = len(X_self)\n",
    "train_size = int(0.7 * total_samples)\n",
    "train_indices = np.random.choice(total_samples, train_size, replace=False)\n",
    "X_train_self = X_self[train_indices]\n",
    "y_train_self = y_self[train_indices]\n",
    "X_test_self = np.delete(X_self, train_indices, axis=0)\n",
    "y_test_self = np.delete(y_self, train_indices, axis=0)\n",
    "X_train = np.concatenate([X_train_CMU, X_train_self], axis = 0)\n",
    "y_train = np.concatenate([y_train_CMU, y_train_self], axis = 0)\n",
    "X_test = np.concatenate([X_test_CMU, X_test_self], axis = 0)\n",
    "y_test = np.concatenate([y_test_CMU, y_test_self], axis = 0)"
   ]
  },
  {
   "cell_type": "code",
   "execution_count": 2,
   "id": "7c8ef2c9-e25a-4579-8435-7002ad46e319",
   "metadata": {
    "tags": []
   },
   "outputs": [],
   "source": [
    "X_train_raw = X_train.reshape(X_train.shape[0], -1)\n",
    "X_test_raw = X_test.reshape(X_test.shape[0], -1)\n",
    "raw_face_images = [X_train_raw, X_test_raw]\n",
    "\n",
    "X_train_reshape = X_train.reshape(X_train.shape[0], -1)\n",
    "mean = np.mean(X_train_reshape, axis = 0)\n",
    "std = np.std(X_train_reshape, axis = 0)\n",
    "X_train_normalize = (X_train_reshape - mean) / std\n",
    "\n",
    "X_train_CMU_reshape = X_train_CMU.reshape(X_train_CMU.shape[0], -1)\n",
    "mean = np.mean(X_train_CMU_reshape, axis = 0)\n",
    "std = np.std(X_train_CMU_reshape, axis = 0)\n",
    "X_train_CMU_normalize = (X_train_CMU_reshape - mean) / std\n",
    "\n",
    "X_train_self_reshape = X_train_self.reshape(X_train_self.shape[0], -1)\n",
    "mean = np.mean(X_train_self_reshape, axis = 0)\n",
    "std = np.std(X_train_self_reshape, axis = 0)\n",
    "X_train_self_normalize = (X_train_self_reshape - mean) / std\n",
    "\n",
    "X_test_reshape = X_test.reshape(X_test.shape[0], -1)\n",
    "mean = np.mean(X_test_reshape, axis = 0)\n",
    "std = np.std(X_test_reshape, axis = 0)\n",
    "X_test_normalize = (X_test_reshape - mean) / std\n",
    "\n",
    "X_test_CMU_reshape = X_test_CMU.reshape(X_test_CMU.shape[0], -1)\n",
    "mean = np.mean(X_test_CMU_reshape, axis = 0)\n",
    "std = np.std(X_test_CMU_reshape, axis = 0)\n",
    "X_test_CMU_normalize = (X_test_CMU_reshape - mean) / std\n",
    "\n",
    "X_test_self_reshape = X_test_self.reshape(X_test_self.shape[0], -1)\n",
    "mean = np.mean(X_test_self_reshape, axis = 0)\n",
    "std = np.std(X_test_self_reshape, axis = 0)\n",
    "X_test_self_normalize = (X_test_self_reshape - mean) / std"
   ]
  },
  {
   "cell_type": "code",
   "execution_count": 3,
   "id": "a5f16688-c00a-48aa-8d0b-12506d958971",
   "metadata": {
    "tags": []
   },
   "outputs": [],
   "source": [
    "import tensorflow as tf\n",
    "from tensorflow.keras import layers, models"
   ]
  },
  {
   "cell_type": "code",
   "execution_count": 4,
   "id": "7fb21131-48f1-4450-840f-8d821375169d",
   "metadata": {
    "tags": []
   },
   "outputs": [],
   "source": [
    "model = models.Sequential()"
   ]
  },
  {
   "cell_type": "code",
   "execution_count": 5,
   "id": "b368659d-1edd-4073-a528-b7b4b476a688",
   "metadata": {
    "tags": []
   },
   "outputs": [],
   "source": [
    "model.add(layers.Conv2D(20, (5, 5), activation='relu', input_shape=(32, 32, 1)))\n",
    "model.add(layers.MaxPooling2D((2, 2)))"
   ]
  },
  {
   "cell_type": "code",
   "execution_count": 6,
   "id": "a53eca2a-6836-4817-a5d8-338f22f03a47",
   "metadata": {
    "tags": []
   },
   "outputs": [],
   "source": [
    "model.add(layers.Conv2D(50, (5, 5), activation='relu'))\n",
    "model.add(layers.MaxPooling2D((2, 2)))"
   ]
  },
  {
   "cell_type": "code",
   "execution_count": 7,
   "id": "a3bce19c-3f5e-44a7-b476-2599f12a1378",
   "metadata": {
    "tags": []
   },
   "outputs": [],
   "source": [
    "model.add(layers.Flatten())"
   ]
  },
  {
   "cell_type": "code",
   "execution_count": 8,
   "id": "939cafca-14d1-4730-81a5-465c4470f0a0",
   "metadata": {
    "tags": []
   },
   "outputs": [],
   "source": [
    "model.add(layers.Dense(500, activation='relu'))"
   ]
  },
  {
   "cell_type": "code",
   "execution_count": 9,
   "id": "271119ff-474b-46a6-9874-9d0814e69758",
   "metadata": {
    "tags": []
   },
   "outputs": [],
   "source": [
    "model.add(layers.Dense(26, activation='softmax'))"
   ]
  },
  {
   "cell_type": "code",
   "execution_count": 10,
   "id": "d43acfdc-ac4a-4fa2-8035-0e45a64d1fdb",
   "metadata": {
    "tags": []
   },
   "outputs": [],
   "source": [
    "model.compile(optimizer='adam',\n",
    "              loss='sparse_categorical_crossentropy',\n",
    "              metrics=['accuracy'])"
   ]
  },
  {
   "cell_type": "code",
   "execution_count": 11,
   "id": "adec6af5-d2bb-4dac-9fed-992f2cc40898",
   "metadata": {
    "tags": []
   },
   "outputs": [
    {
     "name": "stdout",
     "output_type": "stream",
     "text": [
      "Model: \"sequential\"\n",
      "_________________________________________________________________\n",
      " Layer (type)                Output Shape              Param #   \n",
      "=================================================================\n",
      " conv2d (Conv2D)             (None, 28, 28, 20)        520       \n",
      "                                                                 \n",
      " max_pooling2d (MaxPooling2  (None, 14, 14, 20)        0         \n",
      " D)                                                              \n",
      "                                                                 \n",
      " conv2d_1 (Conv2D)           (None, 10, 10, 50)        25050     \n",
      "                                                                 \n",
      " max_pooling2d_1 (MaxPoolin  (None, 5, 5, 50)          0         \n",
      " g2D)                                                            \n",
      "                                                                 \n",
      " flatten (Flatten)           (None, 1250)              0         \n",
      "                                                                 \n",
      " dense (Dense)               (None, 500)               625500    \n",
      "                                                                 \n",
      " dense_1 (Dense)             (None, 26)                13026     \n",
      "                                                                 \n",
      "=================================================================\n",
      "Total params: 664096 (2.53 MB)\n",
      "Trainable params: 664096 (2.53 MB)\n",
      "Non-trainable params: 0 (0.00 Byte)\n",
      "_________________________________________________________________\n"
     ]
    }
   ],
   "source": [
    "model.summary()"
   ]
  },
  {
   "cell_type": "code",
   "execution_count": 12,
   "id": "0f731b42-dfc3-481b-895a-eaaa1960a326",
   "metadata": {
    "tags": []
   },
   "outputs": [],
   "source": [
    "X_train = X_train.reshape(-1, 32, 32, 1).astype('float32') / 255.0\n",
    "X_test = X_test.reshape(-1, 32, 32, 1).astype('float32') / 255.0"
   ]
  },
  {
   "cell_type": "code",
   "execution_count": 13,
   "id": "1808a79d-7cd0-47b6-9271-338cccb9165a",
   "metadata": {
    "tags": []
   },
   "outputs": [],
   "source": [
    "num_classes = 26\n",
    "y_train_processed = np.clip(y_train, 0, num_classes - 1).astype(np.int32)\n",
    "y_test_processed = np.clip(y_test, 0, num_classes - 1).astype(np.int32)"
   ]
  },
  {
   "cell_type": "code",
   "execution_count": 14,
   "id": "ec810c4c-b6ff-4632-bd24-ced963966079",
   "metadata": {
    "tags": []
   },
   "outputs": [
    {
     "name": "stdout",
     "output_type": "stream",
     "text": [
      "Epoch 1/10\n",
      "94/94 [==============================] - 1s 8ms/step - loss: 1.3838 - accuracy: 0.6707\n",
      "Epoch 2/10\n",
      "94/94 [==============================] - 1s 9ms/step - loss: 0.9443 - accuracy: 0.7193\n",
      "Epoch 3/10\n",
      "94/94 [==============================] - 1s 8ms/step - loss: 0.4524 - accuracy: 0.8457\n",
      "Epoch 4/10\n",
      "94/94 [==============================] - 1s 10ms/step - loss: 0.2246 - accuracy: 0.9256\n",
      "Epoch 5/10\n",
      "94/94 [==============================] - 1s 8ms/step - loss: 0.1293 - accuracy: 0.9631\n",
      "Epoch 6/10\n",
      "94/94 [==============================] - 1s 8ms/step - loss: 0.0780 - accuracy: 0.9816\n",
      "Epoch 7/10\n",
      "94/94 [==============================] - 1s 8ms/step - loss: 0.0493 - accuracy: 0.9883\n",
      "Epoch 8/10\n",
      "94/94 [==============================] - 1s 9ms/step - loss: 0.0373 - accuracy: 0.9920\n",
      "Epoch 9/10\n",
      "94/94 [==============================] - 1s 11ms/step - loss: 0.0306 - accuracy: 0.9940\n",
      "Epoch 10/10\n",
      "94/94 [==============================] - 1s 8ms/step - loss: 0.0376 - accuracy: 0.9896\n"
     ]
    }
   ],
   "source": [
    "epochs = 10\n",
    "batch_size = 32 \n",
    "history = model.fit(X_train, y_train_processed, epochs=epochs, batch_size=batch_size)"
   ]
  },
  {
   "cell_type": "code",
   "execution_count": 15,
   "id": "6ca2b16f-65ff-41ef-9d67-d2327dfcaa39",
   "metadata": {
    "tags": []
   },
   "outputs": [
    {
     "name": "stdout",
     "output_type": "stream",
     "text": [
      "40/40 [==============================] - 0s 3ms/step - loss: 0.0391 - accuracy: 0.9898\n"
     ]
    }
   ],
   "source": [
    "test_loss, test_accuracy = model.evaluate(X_test, y_test_processed)"
   ]
  },
  {
   "cell_type": "code",
   "execution_count": 16,
   "id": "0571a558-b6b2-447a-807a-af2e15854c61",
   "metadata": {
    "tags": []
   },
   "outputs": [
    {
     "name": "stdout",
     "output_type": "stream",
     "text": [
      "Test Accuracy: 0.9898278713226318\n"
     ]
    }
   ],
   "source": [
    "print(\"Test Accuracy:\", test_accuracy)"
   ]
  },
  {
   "cell_type": "code",
   "execution_count": 17,
   "id": "fda48b1f-dae0-4a4a-8458-6155f93d70b7",
   "metadata": {
    "tags": []
   },
   "outputs": [
    {
     "data": {
      "image/png": "[encoded data removed]",
      "text/plain": [
       "<Figure size 640x480 with 1 Axes>"
      ]
     },
     "metadata": {},
     "output_type": "display_data"
    }
   ],
   "source": [
    "train_accuracy = history.history['accuracy']\n",
    "test_accuracy_list = [test_accuracy] * len(train_accuracy)\n",
    "epochs_range = range(1, epochs + 1)\n",
    "plt.bar(epochs_range, train_accuracy, label = 'Training Accuracy')\n",
    "plt.bar(epochs_range, test_accuracy_list, label = 'Testing Accuracy', alpha = 0.5)\n",
    "plt.title('Training and Testing Accuracy')\n",
    "plt.xlabel('Epoch')\n",
    "plt.ylabel('Accuracy')\n",
    "plt.legend()\n",
    "plt.show()"
   ]
  },
  {
   "cell_type": "code",
   "execution_count": 18,
   "id": "dd9998e2-7ce8-49ad-8dd2-33db207f728d",
   "metadata": {
    "tags": []
   },
   "outputs": [
    {
     "name": "stdout",
     "output_type": "stream",
     "text": [
      "40/40 [==============================] - 0s 4ms/step - loss: 0.0391 - accuracy: 0.9898\n"
     ]
    },
    {
     "data": {
      "image/png": "[encoded data removed]",
      "text/plain": [
       "<Figure size 640x480 with 1 Axes>"
      ]
     },
     "metadata": {},
     "output_type": "display_data"
    },
    {
     "name": "stdout",
     "output_type": "stream",
     "text": [
      "Test Loss: 0.03910709172487259\n"
     ]
    }
   ],
   "source": [
    "test_loss, test_accuracy = model.evaluate(X_test, y_test_processed)\n",
    "plt.plot(history.history['loss'], label='Training Loss')\n",
    "plt.axhline(y=test_loss, color='r', linestyle='--', label='Testing Loss')\n",
    "plt.title('Training and Testing Loss')\n",
    "plt.xlabel('Epoch')\n",
    "plt.ylabel('Loss')\n",
    "plt.legend()\n",
    "plt.show()\n",
    "print(\"Test Loss:\", test_loss)"
   ]
  },
  {
   "cell_type": "code",
   "execution_count": null,
   "id": "6f8cb0ba-cb48-49d3-b102-da9bab5fd6ac",
   "metadata": {},
   "outputs": [],
   "source": []
  }
 ],
 "metadata": {
  "kernelspec": {
   "display_name": "Python 3 (ipykernel)",
   "language": "python",
   "name": "python3"
  },
  "language_info": {
   "codemirror_mode": {
    "name": "ipython",
    "version": 3
   },
   "file_extension": ".py",
   "mimetype": "text/x-python",
   "name": "python",
   "nbconvert_exporter": "python",
   "pygments_lexer": "ipython3",
   "version": "3.11.4"
  }
 },
 "nbformat": 4,
 "nbformat_minor": 5
}
