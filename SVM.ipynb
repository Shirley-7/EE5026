{
 "cells": [
  {
   "cell_type": "code",
   "execution_count": 1,
   "id": "a1fc73a8-6506-4e20-a811-7a16df0f0740",
   "metadata": {
    "tags": []
   },
   "outputs": [],
   "source": [
    "import PIL\n",
    "from PIL import Image\n",
    "import matplotlib.pyplot as plt\n",
    "import random\n",
    "import numpy as np\n",
    "import os\n",
    "random.seed(5026)\n",
    "target = np.sort([0] + random.sample(range(1, 69), 25))\n",
    "num = []\n",
    "for i in target:\n",
    "    files = os.listdir(os.path.join(\"PIE\", str(i)))\n",
    "    n = len([j for j in files if j.endswith('.jpg')])\n",
    "    num.append(n)\n",
    "X = np.empty((sum(num), 32, 32))\n",
    "y = np.empty((sum(num), 1))\n",
    "for i, j in enumerate(target):\n",
    "    for k, img_path in enumerate([f for f in os.listdir(os.path.join('PIE', str(j))) if f.endswith('.jpg')]):\n",
    "        img_path = os.path.join('PIE', str(j), str(k+1)+'.jpg')\n",
    "        X[sum(num[:i]) + k, :, :] = np.array(Image.open(img_path))\n",
    "        y[sum(num[:i]) + k] = j\n",
    "X_CMU = X[y.flatten() != 0, :, :]\n",
    "y_CMU = y[y != 0]\n",
    "X_self = X[y.flatten() == 0, :, :]\n",
    "y_self = y[y == 0]\n",
    "np.random.seed(42)\n",
    "total_samples = len(X_CMU)\n",
    "train_size = int(0.7 * total_samples)\n",
    "train_indices = np.random.choice(total_samples, train_size, replace=False)\n",
    "X_train_CMU = X_CMU[train_indices]\n",
    "y_train_CMU = y_CMU[train_indices]\n",
    "X_test_CMU = np.delete(X_CMU, train_indices, axis=0)\n",
    "y_test_CMU = np.delete(y_CMU, train_indices, axis=0)\n",
    "np.random.seed(42)\n",
    "total_samples = len(X_self)\n",
    "train_size = int(0.7 * total_samples)\n",
    "train_indices = np.random.choice(total_samples, train_size, replace=False)\n",
    "X_train_self = X_self[train_indices]\n",
    "y_train_self = y_self[train_indices]\n",
    "X_test_self = np.delete(X_self, train_indices, axis=0)\n",
    "y_test_self = np.delete(y_self, train_indices, axis=0)\n",
    "X_train = np.concatenate([X_train_CMU, X_train_self], axis = 0)\n",
    "y_train = np.concatenate([y_train_CMU, y_train_self], axis = 0)\n",
    "X_test = np.concatenate([X_test_CMU, X_test_self], axis = 0)\n",
    "y_test = np.concatenate([y_test_CMU, y_test_self], axis = 0)"
   ]
  },
  {
   "cell_type": "code",
   "execution_count": 2,
   "id": "e5a3bff6-7b6f-432a-b71d-0c51367bb9f8",
   "metadata": {
    "tags": []
   },
   "outputs": [],
   "source": [
    "X_train_raw = X_train.reshape(X_train.shape[0], -1)\n",
    "X_test_raw = X_test.reshape(X_test.shape[0], -1)\n",
    "raw_face_images = [X_train_raw, X_test_raw]\n",
    "\n",
    "X_train_reshape = X_train.reshape(X_train.shape[0], -1)\n",
    "mean = np.mean(X_train_reshape, axis = 0)\n",
    "std = np.std(X_train_reshape, axis = 0)\n",
    "X_train_normalize = (X_train_reshape - mean) / std\n",
    "\n",
    "X_train_CMU_reshape = X_train_CMU.reshape(X_train_CMU.shape[0], -1)\n",
    "mean = np.mean(X_train_CMU_reshape, axis = 0)\n",
    "std = np.std(X_train_CMU_reshape, axis = 0)\n",
    "X_train_CMU_normalize = (X_train_CMU_reshape - mean) / std\n",
    "\n",
    "X_train_self_reshape = X_train_self.reshape(X_train_self.shape[0], -1)\n",
    "mean = np.mean(X_train_self_reshape, axis = 0)\n",
    "std = np.std(X_train_self_reshape, axis = 0)\n",
    "X_train_self_normalize = (X_train_self_reshape - mean) / std\n",
    "\n",
    "X_test_reshape = X_test.reshape(X_test.shape[0], -1)\n",
    "mean = np.mean(X_test_reshape, axis = 0)\n",
    "std = np.std(X_test_reshape, axis = 0)\n",
    "X_test_normalize = (X_test_reshape - mean) / std\n",
    "\n",
    "X_test_CMU_reshape = X_test_CMU.reshape(X_test_CMU.shape[0], -1)\n",
    "mean = np.mean(X_test_CMU_reshape, axis = 0)\n",
    "std = np.std(X_test_CMU_reshape, axis = 0)\n",
    "X_test_CMU_normalize = (X_test_CMU_reshape - mean) / std\n",
    "\n",
    "X_test_self_reshape = X_test_self.reshape(X_test_self.shape[0], -1)\n",
    "mean = np.mean(X_test_self_reshape, axis = 0)\n",
    "std = np.std(X_test_self_reshape, axis = 0)\n",
    "X_test_self_normalize = (X_test_self_reshape - mean) / std"
   ]
  },
  {
   "cell_type": "code",
   "execution_count": 3,
   "id": "71e73be9-43c7-4183-be48-2c12e55a1667",
   "metadata": {
    "tags": []
   },
   "outputs": [],
   "source": [
    "C_values = [1e-2, 1e-1, 1]"
   ]
  },
  {
   "cell_type": "code",
   "execution_count": 4,
   "id": "20d60df1-1803-40fe-868a-c435d12a05a7",
   "metadata": {
    "tags": []
   },
   "outputs": [
    {
     "name": "stdout",
     "output_type": "stream",
     "text": [
      "Accuracy = 98.5133% (1259/1278) (classification)\n",
      "C = 0.01\n",
      "----------------\n",
      "Accuracy = 98.5133% (1259/1278) (classification)\n",
      "C = 0.1\n",
      "----------------\n",
      "Accuracy = 98.5133% (1259/1278) (classification)\n",
      "C = 1\n",
      "----------------\n"
     ]
    }
   ],
   "source": [
    "from libsvm.svmutil import svm_train, svm_predict, svm_read_problem\n",
    "import sys\n",
    "original_stdout = sys.stdout\n",
    "train_data_file = \"train\"\n",
    "test_data_file = \"test\"\n",
    "with open(train_data_file, \"w\") as train_file:\n",
    "    for label, features in zip(y_train.flatten(), X_train_raw):\n",
    "        train_file.write(f\"{label} {' '.join([f'{i + 1}:{value}' for i, value in enumerate(features)])}\\n\")\n",
    "with open(test_data_file, \"w\") as test_file:\n",
    "    for label, features in zip(y_test.flatten(), X_test_raw):\n",
    "        test_file.write(f\"{label} {' '.join([f'{i + 1}:{value}' for i, value in enumerate(features)])}\\n\")\n",
    "for C in C_values:\n",
    "    l_train, X_train = svm_read_problem(train_data_file)\n",
    "    l_test, X_test = svm_read_problem(test_data_file)\n",
    "    svm_param = f'-t 0 -c {C} -q'\n",
    "    sys.stdout = open(os.devnull, \"w\")\n",
    "    svm_model = svm_train(l_train, X_train, svm_param)\n",
    "    sys.stdout = original_stdout\n",
    "    p_label, _, _ = svm_predict(l_test, X_test, svm_model)\n",
    "    correct_predictions = np.sum(np.array(p_label) == y_test)\n",
    "    total_samples = len(y_test)\n",
    "    test_accuracy = correct_predictions / total_samples\n",
    "    print(f\"C = {C}\")\n",
    "    print(\"----------------\")\n",
    "os.remove(train_data_file)\n",
    "os.remove(test_data_file)"
   ]
  },
  {
   "cell_type": "code",
   "execution_count": 5,
   "id": "891966e0-e3bd-467a-b514-b5cce5646a67",
   "metadata": {
    "tags": []
   },
   "outputs": [],
   "source": [
    "class PCA:\n",
    "    def __init__(self, n_components):\n",
    "        self.n_components = n_components\n",
    "        self.components = None\n",
    "        self.mean = None\n",
    "\n",
    "    def fit(self, X):\n",
    "        self.mean = np.mean(X, axis=0)\n",
    "        X_centered = X - self.mean\n",
    "        cov_matrix = np.cov(X_centered, rowvar = False)\n",
    "        eigenvalues, eigenvectors = np.linalg.eigh(cov_matrix)\n",
    "        sorted_indices = np.argsort(eigenvalues)[::-1]\n",
    "        self.components = eigenvectors[:, sorted_indices[:self.n_components]]\n",
    "\n",
    "    def transform(self, X):\n",
    "        X_centered = X - self.mean\n",
    "        return np.dot(X_centered, self.components)"
   ]
  },
  {
   "cell_type": "code",
   "execution_count": 6,
   "id": "f0b71047-2099-422d-8004-38f13d3bf4cf",
   "metadata": {
    "tags": []
   },
   "outputs": [],
   "source": [
    "pca_80 = PCA(n_components = 80)\n",
    "pca_80.fit(X_train_normalize)\n",
    "X_train_80 = pca_80.transform(X_train_normalize)\n",
    "X_test_80 = pca_80.transform(X_test_normalize)\n",
    "\n",
    "pca_200 = PCA(n_components = 200)\n",
    "pca_200.fit(X_train_normalize)\n",
    "X_train_200 = pca_200.transform(X_train_normalize)\n",
    "X_test_200 = pca_200.transform(X_test_normalize)"
   ]
  },
  {
   "cell_type": "code",
   "execution_count": 7,
   "id": "2dbdd88f-68fe-47e3-97a3-3825ccc05242",
   "metadata": {},
   "outputs": [
    {
     "name": "stdout",
     "output_type": "stream",
     "text": [
      "Accuracy = 97.4961% (1246/1278) (classification)\n",
      "C = 0.01\n",
      "----------------\n",
      "Accuracy = 97.7308% (1249/1278) (classification)\n",
      "C = 0.1\n",
      "----------------\n",
      "Accuracy = 97.7308% (1249/1278) (classification)\n",
      "C = 1\n",
      "----------------\n"
     ]
    }
   ],
   "source": [
    "original_stdout = sys.stdout\n",
    "train_data_file = \"train\"\n",
    "test_data_file = \"test\"\n",
    "with open(train_data_file, \"w\") as train_file:\n",
    "    for label, features in zip(y_train.flatten(), X_train_80):\n",
    "        train_file.write(f\"{label} {' '.join([f'{i + 1}:{value}' for i, value in enumerate(features)])}\\n\")\n",
    "with open(test_data_file, \"w\") as test_file:\n",
    "    for label, features in zip(y_test.flatten(), X_test_80):\n",
    "        test_file.write(f\"{label} {' '.join([f'{i + 1}:{value}' for i, value in enumerate(features)])}\\n\")\n",
    "for C in C_values:\n",
    "    l_train, X_train = svm_read_problem(train_data_file)\n",
    "    l_test, X_test = svm_read_problem(test_data_file)\n",
    "    svm_param = f'-t 0 -c {C} -q'\n",
    "    sys.stdout = open(os.devnull, \"w\")\n",
    "    svm_model = svm_train(l_train, X_train, svm_param)\n",
    "    sys.stdout = original_stdout\n",
    "    p_label, _, _ = svm_predict(l_test, X_test, svm_model)\n",
    "    correct_predictions = np.sum(np.array(p_label) == l_test)\n",
    "    total_samples = len(y_test)\n",
    "    test_accuracy = correct_predictions / total_samples\n",
    "    print(f\"C = {C}\")\n",
    "    print(\"----------------\")\n",
    "os.remove(train_data_file)\n",
    "os.remove(test_data_file)"
   ]
  },
  {
   "cell_type": "code",
   "execution_count": 8,
   "id": "b77547ec-5ace-4fb0-8992-62c2dcdcf8bd",
   "metadata": {},
   "outputs": [
    {
     "name": "stdout",
     "output_type": "stream",
     "text": [
      "Accuracy = 98.0438% (1253/1278) (classification)\n",
      "C = 0.01\n",
      "----------------\n",
      "Accuracy = 98.3568% (1257/1278) (classification)\n",
      "C = 0.1\n",
      "----------------\n",
      "Accuracy = 98.3568% (1257/1278) (classification)\n",
      "C = 1\n",
      "----------------\n"
     ]
    }
   ],
   "source": [
    "original_stdout = sys.stdout\n",
    "train_data_file = \"train\"\n",
    "test_data_file = \"test\"\n",
    "with open(train_data_file, 'w') as train_file:\n",
    "    for label, features in zip(y_train.flatten(), X_train_200):\n",
    "        train_file.write(f\"{label} {' '.join([f'{i + 1}:{value}' for i, value in enumerate(features)])}\\n\")\n",
    "with open(test_data_file, 'w') as test_file:\n",
    "    for label, features in zip(y_test.flatten(), X_test_200):\n",
    "        test_file.write(f\"{label} {' '.join([f'{i + 1}:{value}' for i, value in enumerate(features)])}\\n\")\n",
    "for C in C_values:\n",
    "    l_train, X_train = svm_read_problem(train_data_file)\n",
    "    l_test, X_test = svm_read_problem(test_data_file)\n",
    "    svm_param = f\"-t 0 -c {C} -q\"\n",
    "    sys.stdout = open(os.devnull, \"w\")\n",
    "    svm_model = svm_train(l_train, X_train, svm_param)\n",
    "    sys.stdout = original_stdout\n",
    "    p_label, _, _ = svm_predict(l_test, X_test, svm_model)\n",
    "    correct_predictions = np.sum(np.array(p_label) == l_test)\n",
    "    total_samples = len(y_test)\n",
    "    test_accuracy = correct_predictions / total_samples\n",
    "    print(f\"C = {C}\")\n",
    "    print(\"----------------\")\n",
    "os.remove(train_data_file)\n",
    "os.remove(test_data_file)"
   ]
  },
  {
   "cell_type": "code",
   "execution_count": null,
   "id": "d7d78a27-16a3-40b9-863d-a06c6c54253e",
   "metadata": {},
   "outputs": [],
   "source": []
  }
 ],
 "metadata": {
  "kernelspec": {
   "display_name": "Python 3 (ipykernel)",
   "language": "python",
   "name": "python3"
  },
  "language_info": {
   "codemirror_mode": {
    "name": "ipython",
    "version": 3
   },
   "file_extension": ".py",
   "mimetype": "text/x-python",
   "name": "python",
   "nbconvert_exporter": "python",
   "pygments_lexer": "ipython3",
   "version": "3.11.4"
  }
 },
 "nbformat": 4,
 "nbformat_minor": 5
}
